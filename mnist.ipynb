{
 "cells": [
  {
   "cell_type": "markdown",
   "metadata": {},
   "source": [
    "# MNIST CNN Classifier\n",
    "Adapted from the [mnist_cnn keras example](https://github.com/keras-team/keras/blob/master/examples/mnist_cnn.py) pointed to from the [AWS tutorial on containers](https://aws.amazon.com/getting-started/tutorials/train-deep-learning-model-aws-ec2-containers/):\n",
    "```\n",
    "'''Trains a simple convnet on the MNIST dataset.\n",
    "Gets to 99.25% test accuracy after 12 epochs\n",
    "(there is still a lot of margin for parameter tuning).\n",
    "16 seconds per epoch on a GRID K520 GPU.\n",
    "'''\n",
    "\n",
    "from __future__ import print_function\n",
    "import keras\n",
    "from keras.datasets import mnist\n",
    "from keras.models import Sequential\n",
    "from keras.layers import Dense, Dropout, Flatten\n",
    "from keras.layers import Conv2D, MaxPooling2D\n",
    "from keras import backend as K\n",
    "\n",
    "batch_size = 128\n",
    "num_classes = 10\n",
    "epochs = 12\n",
    "\n",
    "# input image dimensions\n",
    "img_rows, img_cols = 28, 28\n",
    "\n",
    "# the data, split between train and test sets\n",
    "(x_train, y_train), (x_test, y_test) = mnist.load_data()\n",
    "\n",
    "if K.image_data_format() == 'channels_first':\n",
    "    x_train = x_train.reshape(x_train.shape[0], 1, img_rows, img_cols)\n",
    "    x_test = x_test.reshape(x_test.shape[0], 1, img_rows, img_cols)\n",
    "    input_shape = (1, img_rows, img_cols)\n",
    "else:\n",
    "    x_train = x_train.reshape(x_train.shape[0], img_rows, img_cols, 1)\n",
    "    x_test = x_test.reshape(x_test.shape[0], img_rows, img_cols, 1)\n",
    "    input_shape = (img_rows, img_cols, 1)\n",
    "\n",
    "x_train = x_train.astype('float32')\n",
    "x_test = x_test.astype('float32')\n",
    "x_train /= 255\n",
    "x_test /= 255\n",
    "print('x_train shape:', x_train.shape)\n",
    "print(x_train.shape[0], 'train samples')\n",
    "print(x_test.shape[0], 'test samples')\n",
    "\n",
    "# convert class vectors to binary class matrices\n",
    "y_train = keras.utils.to_categorical(y_train, num_classes)\n",
    "y_test = keras.utils.to_categorical(y_test, num_classes)\n",
    "\n",
    "model = Sequential()\n",
    "model.add(Conv2D(32, kernel_size=(3, 3),\n",
    "                 activation='relu',\n",
    "                 input_shape=input_shape))\n",
    "model.add(Conv2D(64, (3, 3), activation='relu'))\n",
    "model.add(MaxPooling2D(pool_size=(2, 2)))\n",
    "model.add(Dropout(0.25))\n",
    "model.add(Flatten())\n",
    "model.add(Dense(128, activation='relu'))\n",
    "model.add(Dropout(0.5))\n",
    "model.add(Dense(num_classes, activation='softmax'))\n",
    "\n",
    "model.compile(loss=keras.losses.categorical_crossentropy,\n",
    "              optimizer=keras.optimizers.Adadelta(),\n",
    "              metrics=['accuracy'])\n",
    "\n",
    "model.fit(x_train, y_train,\n",
    "          batch_size=batch_size,\n",
    "          epochs=epochs,\n",
    "          verbose=1,\n",
    "          validation_data=(x_test, y_test))\n",
    "score = model.evaluate(x_test, y_test, verbose=0)\n",
    "print('Test loss:', score[0])\n",
    "print('Test accuracy:', score[1])\n",
    "```"
   ]
  },
  {
   "cell_type": "markdown",
   "metadata": {},
   "source": [
    "# Setup libraries and parameters"
   ]
  },
  {
   "cell_type": "code",
   "execution_count": 70,
   "metadata": {},
   "outputs": [],
   "source": [
    "import pdb\n",
    "import time\n",
    "import os.path\n",
    "import numpy as np\n",
    "import matplotlib.pyplot as plt\n",
    "from sklearn.metrics import confusion_matrix\n",
    "import itertools"
   ]
  },
  {
   "cell_type": "code",
   "execution_count": 11,
   "metadata": {},
   "outputs": [],
   "source": [
    "import torch\n",
    "import torch.nn as nn\n",
    "import torch.nn.functional as F\n",
    "import torch.optim as optim\n",
    "from torchvision import datasets, transforms\n",
    "from torch.autograd import Variable"
   ]
  },
  {
   "cell_type": "code",
   "execution_count": 26,
   "metadata": {},
   "outputs": [],
   "source": [
    "# Training settings\n",
    "class Args:\n",
    "    batch_size=128\n",
    "    test_batch_size=1000\n",
    "    epochs=12\n",
    "    lr=0.01\n",
    "    momentum=0.5\n",
    "    no_cuda=False\n",
    "    seed=1\n",
    "    log_interval=117\n",
    "    save_checkpoints=True\n",
    "    load_checkpoint=None #'mnist_012.pth'\n",
    "\n",
    "args = Args\n",
    "\n",
    "use_cuda = not args.no_cuda and torch.cuda.is_available()\n",
    "torch.manual_seed(args.seed)\n",
    "device = torch.device(\"cuda\" if use_cuda else \"cpu\")\n",
    "kwargs = {'num_workers': 1, 'pin_memory': True} if use_cuda else {}"
   ]
  },
  {
   "cell_type": "markdown",
   "metadata": {},
   "source": [
    "# Network definition\n",
    "Adapted from this portion of the Keras example model\n",
    "```\n",
    "model.add(Conv2D(32, kernel_size=(3, 3),\n",
    "                 activation='relu',\n",
    "                 input_shape=input_shape))\n",
    "model.add(Conv2D(64, (3, 3), activation='relu'))\n",
    "model.add(MaxPooling2D(pool_size=(2, 2)))\n",
    "model.add(Dropout(0.25))\n",
    "model.add(Flatten())\n",
    "model.add(Dense(128, activation='relu'))\n",
    "model.add(Dropout(0.5))\n",
    "model.add(Dense(num_classes, activation='softmax'))\n",
    "```\n",
    "A few modifications:\n",
    "* I changed the first layer to output 8 channels instead of 32, with the rationale being that a 3x3 kernel only spans 9 DOF. Any channels above 9 would start to become linearly dependent, but the nonlinearity after them might allow them to learn more?\n",
    "* I added batch normalization after the first two convolutional layers because...well...everyone says they are helpful"
   ]
  },
  {
   "cell_type": "code",
   "execution_count": 27,
   "metadata": {},
   "outputs": [],
   "source": [
    "class Net(nn.Module):\n",
    "    def __init__(self):\n",
    "        super(Net, self).__init__()\n",
    "        self.conv1 = nn.Conv2d(1, 8, 3, 1)\n",
    "        # weights = 1x8x3x3 = 72\n",
    "        self.bn1 = nn.BatchNorm2d(8)\n",
    "        self.conv2 = nn.Conv2d(8, 64, 3, 1)\n",
    "        # weights = 8x64x3x3 = 4,608\n",
    "        self.drop1 = nn.Dropout(0.25)\n",
    "        self.bn2 = nn.BatchNorm2d(64)\n",
    "        self.fc1 = nn.Linear(12*12*64, 128)\n",
    "        # weights = 12x12x64x128 = 1,179,648\n",
    "        self.drop2 = nn.Dropout(0.5)\n",
    "        self.fc2 = nn.Linear(128, 10)\n",
    "        # weights = 128 x 10 = 1280\n",
    "\n",
    "    def forward(self, x):\n",
    "        # layer size 28x28x1 = 784\n",
    "        x = F.relu(self.bn1(self.conv1(x)))\n",
    "        # layer size 26x26x8 = 5,408\n",
    "        # perf = 21,632 outputs x 288 kernel entries = 6,230,016 mul adds\n",
    "        x = F.relu(self.bn2(self.conv2(x)))\n",
    "        # layer size 24x24x64 = 36,864\n",
    "        # perf = 36,864 outputs x 589,824 kernel entries = 21,743,271,936 mul adds\n",
    "        x = F.max_pool2d(x, 2, 2)\n",
    "        # layer size 12x12x64 = 9216\n",
    "        x = self.drop1(x)\n",
    "        x = x.view(-1, 12*12*64)\n",
    "        # layer size 1x12*12*64 = 9216\n",
    "        x = F.relu(self.fc1(x))\n",
    "        # layer size 1x128\n",
    "        # perf = 1,179,648 mul adds\n",
    "        x = self.drop2(x)\n",
    "        x = self.fc2(x)\n",
    "        # layer size 1x10\n",
    "        # perf = 1280 mul adds\n",
    "        return F.log_softmax(x, dim=1)"
   ]
  },
  {
   "cell_type": "code",
   "execution_count": 28,
   "metadata": {},
   "outputs": [],
   "source": [
    "model = Net().to(device)"
   ]
  },
  {
   "cell_type": "markdown",
   "metadata": {},
   "source": [
    "# Define the optimizer and loss criterion\n",
    "I initially ran with SGD, but am now trying Adadelta. I haven't explicitly looked at what the loss is. Here is how Keras was set up:\n",
    "```\n",
    "model.compile(loss=keras.losses.categorical_crossentropy,\n",
    "              optimizer=keras.optimizers.Adadelta(),\n",
    "              metrics=['accuracy'])\n",
    "```\n",
    "I've switched to CrossEntropyLoss. I haven't validated that [Keras](https://keras.io/losses/) and [PyTorch](https://pytorch.org/docs/stable/nn.html#crossentropyloss) implement it the same."
   ]
  },
  {
   "cell_type": "code",
   "execution_count": 29,
   "metadata": {},
   "outputs": [],
   "source": [
    "#optimizer = optim.SGD(model.parameters(), lr=args.lr, momentum=args.momentum)\n",
    "optimizer = optim.Adadelta(model.parameters())\n",
    "loss_criterion = nn.CrossEntropyLoss(reduction='sum')"
   ]
  },
  {
   "cell_type": "markdown",
   "metadata": {},
   "source": [
    "# Print out parameter sizes"
   ]
  },
  {
   "cell_type": "code",
   "execution_count": 30,
   "metadata": {},
   "outputs": [],
   "source": [
    "def print_model_size(model):\n",
    "    total_model_size = 0\n",
    "    print(\"Model's state_dict:\")\n",
    "    # print out size of each set of parameter\n",
    "    for param_tensor in model.state_dict():\n",
    "        sz = model.state_dict()[param_tensor].size()\n",
    "\n",
    "        # skip empty parameters (like batch normalization history length)\n",
    "        if len(sz) == 0:\n",
    "            continue\n",
    "            \n",
    "        total_model_size += np.prod(sz)\n",
    "        if len(sz) > 1:\n",
    "            print('{:16s} {:26s} : {} x {} = {:,}'.format(param_tensor, str(sz), sz[0], np.prod(sz[1:]), np.prod(sz)))\n",
    "        else:\n",
    "            print('{:16s} {:26s} : {:,}'.format(param_tensor, str(sz), np.prod(sz)))\n",
    "\n",
    "    # print out total\n",
    "    print('\\n{:43} : {:,}'.format('Total Model Size',total_model_size))"
   ]
  },
  {
   "cell_type": "code",
   "execution_count": 31,
   "metadata": {},
   "outputs": [
    {
     "name": "stdout",
     "output_type": "stream",
     "text": [
      "Model's state_dict:\n",
      "conv1.weight     torch.Size([8, 1, 3, 3])   : 8 x 9 = 72\n",
      "conv1.bias       torch.Size([8])            : 8\n",
      "bn1.weight       torch.Size([8])            : 8\n",
      "bn1.bias         torch.Size([8])            : 8\n",
      "bn1.running_mean torch.Size([8])            : 8\n",
      "bn1.running_var  torch.Size([8])            : 8\n",
      "conv2.weight     torch.Size([64, 8, 3, 3])  : 64 x 72 = 4,608\n",
      "conv2.bias       torch.Size([64])           : 64\n",
      "bn2.weight       torch.Size([64])           : 64\n",
      "bn2.bias         torch.Size([64])           : 64\n",
      "bn2.running_mean torch.Size([64])           : 64\n",
      "bn2.running_var  torch.Size([64])           : 64\n",
      "fc1.weight       torch.Size([128, 9216])    : 128 x 9216 = 1,179,648\n",
      "fc1.bias         torch.Size([128])          : 128\n",
      "fc2.weight       torch.Size([10, 128])      : 10 x 128 = 1,280\n",
      "fc2.bias         torch.Size([10])           : 10\n",
      "\n",
      "Total Model Size                            : 1,186,106\n"
     ]
    }
   ],
   "source": [
    "print_model_size(model)"
   ]
  },
  {
   "cell_type": "markdown",
   "metadata": {},
   "source": [
    "# DataLoaders|\n",
    "Wrap dataset downloaders in a DataLoader class"
   ]
  },
  {
   "cell_type": "code",
   "execution_count": 32,
   "metadata": {},
   "outputs": [],
   "source": [
    "# DataLoaders for train and test data\n",
    "train_loader = torch.utils.data.DataLoader(\n",
    "    datasets.MNIST('../data', train=True, download=True,\n",
    "                   transform=transforms.Compose([\n",
    "                       transforms.ToTensor(),\n",
    "                       transforms.Normalize((0.1307,), (0.3081,))\n",
    "                   ])),\n",
    "    batch_size=args.batch_size, shuffle=True, **kwargs)\n",
    "\n",
    "test_loader = torch.utils.data.DataLoader(\n",
    "    datasets.MNIST('../data', train=False, transform=transforms.Compose([\n",
    "                       transforms.ToTensor(),\n",
    "                       transforms.Normalize((0.1307,), (0.3081,))\n",
    "                   ])),\n",
    "    batch_size=args.test_batch_size, **kwargs)"
   ]
  },
  {
   "cell_type": "markdown",
   "metadata": {},
   "source": [
    "# Define the test and training functions"
   ]
  },
  {
   "cell_type": "code",
   "execution_count": 33,
   "metadata": {},
   "outputs": [
    {
     "ename": "SyntaxError",
     "evalue": "invalid syntax (<ipython-input-33-ef9a57cd8df2>, line 3)",
     "output_type": "error",
     "traceback": [
      "\u001b[0;36m  File \u001b[0;32m\"<ipython-input-33-ef9a57cd8df2>\"\u001b[0;36m, line \u001b[0;32m3\u001b[0m\n\u001b[0;31m    nn.init.xavier_uniform_(model.state_dict()[param_tensor]), gain=nn.init.calculate_gain('relu'))\u001b[0m\n\u001b[0m                                                                                                  ^\u001b[0m\n\u001b[0;31mSyntaxError\u001b[0m\u001b[0;31m:\u001b[0m invalid syntax\n"
     ]
    }
   ],
   "source": [
    "def init(model):\n",
    "    for param_tensor in model.state_dict():\n",
    "        nn.init.xavier_uniform_(model.state_dict()[param_tensor]), gain=nn.init.calculate_gain('relu'))\n",
    "        sz = model.state_dict()[param_tensor].size()\n",
    "\n",
    "        # skip empty parameters (like batch normalization history length)\n",
    "        if len(sz) == 0:\n",
    "            continue\n",
    "            \n",
    "        total_model_size += np.prod(sz)\n",
    "        if len(sz) > 1:\n",
    "            print('{:16s} {:26s} : {} x {} = {:,}'.format(param_tensor, str(sz), sz[0], np.prod(sz[1:]), np.prod(sz)))\n",
    "        else:\n",
    "            print('{:16s} {:26s} : {:,}'.format(param_tensor, str(sz), np.prod(sz)))"
   ]
  },
  {
   "cell_type": "code",
   "execution_count": 39,
   "metadata": {},
   "outputs": [],
   "source": [
    "def train(args, model, device, train_loader, optimizer, epoch):\n",
    "    # Set model to be in training mode\n",
    "    model.train()\n",
    "    for batch_idx, (data, target) in enumerate(train_loader):\n",
    "        data, target = data.to(device), target.to(device)\n",
    "        optimizer.zero_grad()\n",
    "        output = model(data)\n",
    "        loss = loss_criterion(output, target)\n",
    "        loss.backward()\n",
    "        optimizer.step()\n",
    "        if batch_idx % args.log_interval == 0:\n",
    "            print('Train Epoch: {} [{:5}/{} ({:3.0f}%)]\\tLoss: {:.6f}'.format(\n",
    "                epoch, batch_idx * len(data), len(train_loader.dataset),\n",
    "                100. * batch_idx / len(train_loader), loss.item()/len(data)))"
   ]
  },
  {
   "cell_type": "code",
   "execution_count": 40,
   "metadata": {},
   "outputs": [],
   "source": [
    "def test(args, model, device, test_loader):\n",
    "    # Set model to be in testing mode\n",
    "    model.eval()\n",
    "    test_loss = 0\n",
    "    correct = 0\n",
    "    with torch.no_grad():\n",
    "        for data, target in test_loader:\n",
    "            data, target = data.to(device), target.to(device)\n",
    "            output = model(data)\n",
    "            test_loss += loss_criterion(output, target).item() # sum up batch loss\n",
    "            pred = output.argmax(dim=1, keepdim=True) # get the index of the max log-probability\n",
    "            correct += pred.eq(target.view_as(pred)).sum().item()\n",
    "\n",
    "    test_loss /= len(test_loader.dataset)\n",
    "\n",
    "    print('\\nTest set: Average loss: {:.4f}, Accuracy: {}/{} ({:.0f}%)'.format(\n",
    "        test_loss, correct, len(test_loader.dataset),\n",
    "        100. * correct / len(test_loader.dataset)))"
   ]
  },
  {
   "cell_type": "code",
   "execution_count": 41,
   "metadata": {},
   "outputs": [],
   "source": [
    "def run_epoch(args, model, device, train_loader, test_loader, optimizer, epoch):\n",
    "    train_start = time.perf_counter()\n",
    "    train(args, model, device, train_loader, optimizer, epoch)\n",
    "    train_end = time.perf_counter()\n",
    "    train_delta = train_end - train_start\n",
    "\n",
    "    test_start = time.perf_counter()\n",
    "    test(args, model, device, test_loader)\n",
    "    test_end = time.perf_counter()\n",
    "    test_delta = test_end - test_start\n",
    "    \n",
    "    print(\"Training took {:.1f}s.\".format(train_delta))\n",
    "    print(\"Testing took {:.1f}s.\\n\".format(test_delta))   "
   ]
  },
  {
   "cell_type": "markdown",
   "metadata": {},
   "source": [
    "# Checkpointing Logic\n",
    "This implementation is based on the [PyTorch reference](https://pytorch.org/tutorials/beginner/saving_loading_models.html) "
   ]
  },
  {
   "cell_type": "code",
   "execution_count": 42,
   "metadata": {},
   "outputs": [],
   "source": [
    "def save_checkpoint(epoch, filepath='.', prefix='mnist_'):\n",
    "    checkpoint = {'epoch' : epoch,\n",
    "                  'model_state_dict': model.state_dict(),\n",
    "                  'optimizer_state_dict' : optimizer.state_dict(),\n",
    "                  'loss_criterion' : loss_criterion}\n",
    "    torch.save(checkpoint, os.path.join(filepath, '{}{:03}.pth'.format(prefix, epoch)))\n",
    "    \n",
    "def load_checkpoint(filepath):\n",
    "    checkpoint = torch.load(filepath)\n",
    "    model.load_state_dict(checkpoint['model_state_dict'])\n",
    "    optimizer.load_state_dict(checkpoint['optimizer_state_dict'])\n",
    "    loss_criterion = checkpoint['loss_criterion']\n",
    "    for parameter in model.parameters():\n",
    "        parameter.requires_grad = False"
   ]
  },
  {
   "cell_type": "markdown",
   "metadata": {},
   "source": [
    "# Train (or load) the network"
   ]
  },
  {
   "cell_type": "code",
   "execution_count": 43,
   "metadata": {},
   "outputs": [
    {
     "name": "stdout",
     "output_type": "stream",
     "text": [
      "Train Epoch: 1 [    0/60000 (  0%)]\tLoss: 2.336345\n",
      "Train Epoch: 1 [14976/60000 ( 25%)]\tLoss: 0.341401\n",
      "Train Epoch: 1 [29952/60000 ( 50%)]\tLoss: 0.318869\n",
      "Train Epoch: 1 [44928/60000 ( 75%)]\tLoss: 0.115886\n",
      "Train Epoch: 1 [44928/60000 (100%)]\tLoss: 0.094688\n",
      "\n",
      "Test set: Average loss: 0.0606, Accuracy: 9811/10000 (98%)\n",
      "Training took 117.9s.\n",
      "Testing took 10.2s.\n",
      "\n",
      "Train Epoch: 2 [    0/60000 (  0%)]\tLoss: 0.208762\n",
      "Train Epoch: 2 [14976/60000 ( 25%)]\tLoss: 0.152320\n",
      "Train Epoch: 2 [29952/60000 ( 50%)]\tLoss: 0.213651\n",
      "Train Epoch: 2 [44928/60000 ( 75%)]\tLoss: 0.087772\n",
      "Train Epoch: 2 [44928/60000 (100%)]\tLoss: 0.016735\n",
      "\n",
      "Test set: Average loss: 0.0530, Accuracy: 9837/10000 (98%)\n",
      "Training took 122.1s.\n",
      "Testing took 10.5s.\n",
      "\n",
      "Train Epoch: 3 [    0/60000 (  0%)]\tLoss: 0.097726\n",
      "Train Epoch: 3 [14976/60000 ( 25%)]\tLoss: 0.030098\n",
      "Train Epoch: 3 [29952/60000 ( 50%)]\tLoss: 0.077375\n",
      "Train Epoch: 3 [44928/60000 ( 75%)]\tLoss: 0.163559\n",
      "Train Epoch: 3 [44928/60000 (100%)]\tLoss: 0.031697\n",
      "\n",
      "Test set: Average loss: 0.0479, Accuracy: 9852/10000 (99%)\n",
      "Training took 131.2s.\n",
      "Testing took 10.2s.\n",
      "\n",
      "Train Epoch: 4 [    0/60000 (  0%)]\tLoss: 0.201613\n",
      "Train Epoch: 4 [14976/60000 ( 25%)]\tLoss: 0.101461\n",
      "Train Epoch: 4 [29952/60000 ( 50%)]\tLoss: 0.092243\n",
      "Train Epoch: 4 [44928/60000 ( 75%)]\tLoss: 0.175831\n",
      "Train Epoch: 4 [44928/60000 (100%)]\tLoss: 0.046487\n",
      "\n",
      "Test set: Average loss: 0.0383, Accuracy: 9884/10000 (99%)\n",
      "Training took 125.2s.\n",
      "Testing took 10.5s.\n",
      "\n",
      "Train Epoch: 5 [    0/60000 (  0%)]\tLoss: 0.125097\n",
      "Train Epoch: 5 [14976/60000 ( 25%)]\tLoss: 0.121339\n",
      "Train Epoch: 5 [29952/60000 ( 50%)]\tLoss: 0.149745\n",
      "Train Epoch: 5 [44928/60000 ( 75%)]\tLoss: 0.206402\n",
      "Train Epoch: 5 [44928/60000 (100%)]\tLoss: 0.134569\n",
      "\n",
      "Test set: Average loss: 0.0438, Accuracy: 9877/10000 (99%)\n",
      "Training took 125.7s.\n",
      "Testing took 10.0s.\n",
      "\n",
      "Train Epoch: 6 [    0/60000 (  0%)]\tLoss: 0.060531\n",
      "Train Epoch: 6 [14976/60000 ( 25%)]\tLoss: 0.217023\n",
      "Train Epoch: 6 [29952/60000 ( 50%)]\tLoss: 0.071106\n",
      "Train Epoch: 6 [44928/60000 ( 75%)]\tLoss: 0.052904\n",
      "Train Epoch: 6 [44928/60000 (100%)]\tLoss: 0.134548\n",
      "\n",
      "Test set: Average loss: 0.0476, Accuracy: 9860/10000 (99%)\n",
      "Training took 127.2s.\n",
      "Testing took 10.8s.\n",
      "\n",
      "Train Epoch: 7 [    0/60000 (  0%)]\tLoss: 0.133099\n",
      "Train Epoch: 7 [14976/60000 ( 25%)]\tLoss: 0.088242\n",
      "Train Epoch: 7 [29952/60000 ( 50%)]\tLoss: 0.081305\n",
      "Train Epoch: 7 [44928/60000 ( 75%)]\tLoss: 0.010162\n",
      "Train Epoch: 7 [44928/60000 (100%)]\tLoss: 0.075429\n",
      "\n",
      "Test set: Average loss: 0.0413, Accuracy: 9883/10000 (99%)\n",
      "Training took 124.1s.\n",
      "Testing took 10.4s.\n",
      "\n",
      "Train Epoch: 8 [    0/60000 (  0%)]\tLoss: 0.097461\n",
      "Train Epoch: 8 [14976/60000 ( 25%)]\tLoss: 0.053124\n",
      "Train Epoch: 8 [29952/60000 ( 50%)]\tLoss: 0.028152\n",
      "Train Epoch: 8 [44928/60000 ( 75%)]\tLoss: 0.244856\n",
      "Train Epoch: 8 [44928/60000 (100%)]\tLoss: 0.089407\n",
      "\n",
      "Test set: Average loss: 0.0433, Accuracy: 9875/10000 (99%)\n",
      "Training took 124.1s.\n",
      "Testing took 10.6s.\n",
      "\n",
      "Train Epoch: 9 [    0/60000 (  0%)]\tLoss: 0.033125\n",
      "Train Epoch: 9 [14976/60000 ( 25%)]\tLoss: 0.070236\n",
      "Train Epoch: 9 [29952/60000 ( 50%)]\tLoss: 0.064676\n",
      "Train Epoch: 9 [44928/60000 ( 75%)]\tLoss: 0.086784\n",
      "Train Epoch: 9 [44928/60000 (100%)]\tLoss: 0.082263\n",
      "\n",
      "Test set: Average loss: 0.0467, Accuracy: 9862/10000 (99%)\n",
      "Training took 121.4s.\n",
      "Testing took 9.9s.\n",
      "\n",
      "Train Epoch: 10 [    0/60000 (  0%)]\tLoss: 0.123152\n",
      "Train Epoch: 10 [14976/60000 ( 25%)]\tLoss: 0.158137\n",
      "Train Epoch: 10 [29952/60000 ( 50%)]\tLoss: 0.155246\n",
      "Train Epoch: 10 [44928/60000 ( 75%)]\tLoss: 0.116576\n",
      "Train Epoch: 10 [44928/60000 (100%)]\tLoss: 0.045255\n",
      "\n",
      "Test set: Average loss: 0.0412, Accuracy: 9879/10000 (99%)\n",
      "Training took 124.7s.\n",
      "Testing took 9.9s.\n",
      "\n",
      "Train Epoch: 11 [    0/60000 (  0%)]\tLoss: 0.068924\n",
      "Train Epoch: 11 [14976/60000 ( 25%)]\tLoss: 0.078914\n",
      "Train Epoch: 11 [29952/60000 ( 50%)]\tLoss: 0.059376\n",
      "Train Epoch: 11 [44928/60000 ( 75%)]\tLoss: 0.166338\n",
      "Train Epoch: 11 [44928/60000 (100%)]\tLoss: 0.034038\n",
      "\n",
      "Test set: Average loss: 0.0392, Accuracy: 9888/10000 (99%)\n",
      "Training took 119.7s.\n",
      "Testing took 10.1s.\n",
      "\n",
      "Train Epoch: 12 [    0/60000 (  0%)]\tLoss: 0.016119\n",
      "Train Epoch: 12 [14976/60000 ( 25%)]\tLoss: 0.021412\n",
      "Train Epoch: 12 [29952/60000 ( 50%)]\tLoss: 0.072831\n",
      "Train Epoch: 12 [44928/60000 ( 75%)]\tLoss: 0.068634\n",
      "Train Epoch: 12 [44928/60000 (100%)]\tLoss: 0.071149\n",
      "\n",
      "Test set: Average loss: 0.0385, Accuracy: 9885/10000 (99%)\n",
      "Training took 122.1s.\n",
      "Testing took 15.1s.\n",
      "\n"
     ]
    }
   ],
   "source": [
    "if args.load_checkpoint:\n",
    "    load_checkpoint(args.load_checkpoint)\n",
    "    test(args, model, device, test_loader)\n",
    "else:\n",
    "    for epoch in range(1, args.epochs + 1):\n",
    "        run_epoch(args, model, device, train_loader, test_loader, optimizer, epoch)\n",
    "        if args.save_checkpoints:\n",
    "            save_checkpoint(epoch)"
   ]
  },
  {
   "cell_type": "markdown",
   "metadata": {},
   "source": [
    "# Visualization Code"
   ]
  },
  {
   "cell_type": "code",
   "execution_count": 55,
   "metadata": {},
   "outputs": [],
   "source": [
    "#plot some of the test data\n",
    "def plot_data(dataset, entries):\n",
    "    shp = np.shape(entries)\n",
    "    width = shp[0]\n",
    "    if len(shp) > 1:\n",
    "        height = shp[1]\n",
    "    else:\n",
    "        height = 1\n",
    "        \n",
    "    entries_lst = np.reshape(entries,(width*height))\n",
    "    \n",
    "    targets = list(map(lambda idx: dataset.__getitem__(idx)[1], entries_lst))\n",
    "    print('Labels: {}'.format(np.reshape(targets, shp)))\n",
    "\n",
    "    fig, ax = plt.subplots(height,width,dpi=100)\n",
    "    for row in range(0,height):\n",
    "        if height>1:\n",
    "            row_ax = ax[row]\n",
    "        else:\n",
    "            row_ax = ax            \n",
    "        for col in range(0,width):\n",
    "            idx = col + width*row\n",
    "            im = row_ax[col].imshow(dataset.__getitem__(entries_lst[idx])[0].view(28,28), cmap='binary')\n",
    "            row_ax[col].axis('off')\n",
    "    plt.show()"
   ]
  },
  {
   "cell_type": "markdown",
   "metadata": {},
   "source": [
    "## Test data"
   ]
  },
  {
   "cell_type": "code",
   "execution_count": 56,
   "metadata": {},
   "outputs": [
    {
     "name": "stdout",
     "output_type": "stream",
     "text": [
      "Labels: [[7 2 1 0 4]\n",
      " [1 4 9 5 9]\n",
      " [0 6 9 0 1]\n",
      " [5 9 7 3 4]\n",
      " [9 6 6 5 4]]\n"
     ]
    },
    {
     "data": {
      "image/png": "[encoded data removed]",
      "text/plain": [
       "<Figure size 600x400 with 25 Axes>"
      ]
     },
     "metadata": {
      "needs_background": "light"
     },
     "output_type": "display_data"
    }
   ],
   "source": [
    "dim = 5\n",
    "entries = np.reshape(range(0,dim*dim),(dim,dim))\n",
    "plot_data(test_loader.dataset,entries)"
   ]
  },
  {
   "cell_type": "markdown",
   "metadata": {},
   "source": [
    "## Training data"
   ]
  },
  {
   "cell_type": "code",
   "execution_count": 57,
   "metadata": {},
   "outputs": [
    {
     "name": "stdout",
     "output_type": "stream",
     "text": [
      "Labels: [[5 0 4 1 9]\n",
      " [2 1 3 1 4]\n",
      " [3 5 3 6 1]\n",
      " [7 2 8 6 9]\n",
      " [4 0 9 1 1]]\n"
     ]
    },
    {
     "data": {
      "image/png": "[encoded data removed]",
      "text/plain": [
       "<Figure size 600x400 with 25 Axes>"
      ]
     },
     "metadata": {
      "needs_background": "light"
     },
     "output_type": "display_data"
    }
   ],
   "source": [
    "#plot some of the training data\n",
    "entries = np.reshape(range(0,dim*dim),(dim,dim))\n",
    "plot_data(train_loader.dataset, entries)"
   ]
  },
  {
   "cell_type": "markdown",
   "metadata": {},
   "source": [
    "## Get Failures"
   ]
  },
  {
   "cell_type": "code",
   "execution_count": 58,
   "metadata": {},
   "outputs": [],
   "source": [
    "def get_failures(model, device, test_loader):\n",
    "    model.eval()\n",
    "\n",
    "    batch_offset = 0\n",
    "    failure_indices = []\n",
    "    target_all = torch.zeros((0),dtype=torch.long)\n",
    "    output_all = torch.zeros((0,10))\n",
    "    with torch.no_grad():\n",
    "        for data, target in test_loader:\n",
    "            data, target = data.to(device), target.to(device)\n",
    "            output = model(data)\n",
    "\n",
    "            target_all = torch.cat((target_all, target))\n",
    "            output_all = torch.cat((output_all, output))\n",
    "\n",
    "            pred = output.argmax(dim=1, keepdim=True) # get the index of the max log-probability\n",
    "            idx = np.where(pred.ne(target.view_as(pred)))[0]\n",
    "            failure_indices += list(idx + batch_offset)\n",
    "            \n",
    "            batch_offset += pred.size(0)\n",
    "    return np.array(failure_indices), output_all, target_all"
   ]
  },
  {
   "cell_type": "code",
   "execution_count": 59,
   "metadata": {},
   "outputs": [],
   "source": [
    "failure_indices, output_all, target_all = get_failures(model, device, test_loader)"
   ]
  },
  {
   "cell_type": "markdown",
   "metadata": {},
   "source": [
    "## Plot Confusion Matrix\n",
    "The confusion matrix plotting function was copied from [Yassine Ghouzam's great notebook](https://www.kaggle.com/yassineghouzam/introduction-to-cnn-keras-0-997-top-6)"
   ]
  },
  {
   "cell_type": "code",
   "execution_count": 74,
   "metadata": {},
   "outputs": [],
   "source": [
    "def plot_confusion_matrix(cm, classes,\n",
    "                          normalize=False,\n",
    "                          title='Confusion matrix',\n",
    "                          cmap=plt.cm.Blues):\n",
    "    \"\"\"\n",
    "    This function prints and plots the confusion matrix.\n",
    "    Normalization can be applied by setting `normalize=True`.\n",
    "    \"\"\"\n",
    "    plt.imshow(cm, interpolation='nearest', cmap=cmap)\n",
    "    plt.title(title)\n",
    "    plt.colorbar()\n",
    "    tick_marks = np.arange(len(classes))\n",
    "    plt.xticks(tick_marks, classes, rotation=45)\n",
    "    plt.yticks(tick_marks, classes)\n",
    "\n",
    "    if normalize:\n",
    "        cm = cm.astype('float') / cm.sum(axis=1)[:, np.newaxis]\n",
    "\n",
    "    thresh = cm.max() / 2.\n",
    "    for i, j in itertools.product(range(cm.shape[0]), range(cm.shape[1])):\n",
    "        plt.text(j, i, cm[i, j],\n",
    "                 horizontalalignment=\"center\",\n",
    "                 color=\"white\" if cm[i, j] > thresh else \"black\")\n",
    "\n",
    "    plt.tight_layout()\n",
    "    plt.ylabel('True label')\n",
    "    plt.xlabel('Predicted label')"
   ]
  },
  {
   "cell_type": "code",
   "execution_count": 75,
   "metadata": {},
   "outputs": [
    {
     "data": {
      "image/png": "[encoded data removed]",
      "text/plain": [
       "<Figure size 432x288 with 2 Axes>"
      ]
     },
     "metadata": {
      "needs_background": "light"
     },
     "output_type": "display_data"
    }
   ],
   "source": [
    "pred_all = output_all.argmax(dim=1, keepdim=True) # get the index of the max log-probability\n",
    "            \n",
    "# compute the confusion matrix\n",
    "confusion_mtx = confusion_matrix(target_all, pred_all) \n",
    "# plot the confusion matrix\n",
    "plot_confusion_matrix(confusion_mtx, classes = range(10)) "
   ]
  },
  {
   "cell_type": "markdown",
   "metadata": {},
   "source": [
    "## Plot All Failures"
   ]
  },
  {
   "cell_type": "code",
   "execution_count": 80,
   "metadata": {},
   "outputs": [
    {
     "name": "stdout",
     "output_type": "stream",
     "text": [
      "6 failures for digit 0\n",
      "Classification: [6 2 7 8 2 2]\n",
      "Labels: [0 0 0 0 0 0]\n"
     ]
    },
    {
     "data": {
      "image/png": "[encoded data removed]",
      "text/plain": [
       "<Figure size 600x400 with 6 Axes>"
      ]
     },
     "metadata": {
      "needs_background": "light"
     },
     "output_type": "display_data"
    },
    {
     "name": "stdout",
     "output_type": "stream",
     "text": [
      "5 failures for digit 1\n",
      "Classification: [3 3 2 3 5]\n",
      "Labels: [1 1 1 1 1]\n"
     ]
    },
    {
     "data": {
      "image/png": "[encoded data removed]",
      "text/plain": [
       "<Figure size 600x400 with 5 Axes>"
      ]
     },
     "metadata": {
      "needs_background": "light"
     },
     "output_type": "display_data"
    },
    {
     "name": "stdout",
     "output_type": "stream",
     "text": [
      "6 failures for digit 2\n",
      "Classification: [7 0 7 4 7 7]\n",
      "Labels: [2 2 2 2 2 2]\n"
     ]
    },
    {
     "data": {
      "image/png": "[encoded data removed]",
      "text/plain": [
       "<Figure size 600x400 with 6 Axes>"
      ]
     },
     "metadata": {
      "needs_background": "light"
     },
     "output_type": "display_data"
    },
    {
     "name": "stdout",
     "output_type": "stream",
     "text": [
      "6 failures for digit 3\n",
      "Classification: [5 7 2 2 5 8]\n",
      "Labels: [3 3 3 3 3 3]\n"
     ]
    },
    {
     "data": {
      "image/png": "[encoded data removed]",
      "text/plain": [
       "<Figure size 600x400 with 6 Axes>"
      ]
     },
     "metadata": {
      "needs_background": "light"
     },
     "output_type": "display_data"
    },
    {
     "name": "stdout",
     "output_type": "stream",
     "text": [
      "7 failures for digit 4\n",
      "Classification: [9 9 8 9 9 9 9]\n",
      "Labels: [4 4 4 4 4 4 4]\n"
     ]
    },
    {
     "data": {
      "image/png": "[encoded data removed]",
      "text/plain": [
       "<Figure size 600x400 with 7 Axes>"
      ]
     },
     "metadata": {
      "needs_background": "light"
     },
     "output_type": "display_data"
    },
    {
     "name": "stdout",
     "output_type": "stream",
     "text": [
      "11 failures for digit 5\n",
      "Classification: [3 3 3 3 3 0 8 3 3 6 6]\n",
      "Labels: [5 5 5 5 5 5 5 5 5 5 5]\n"
     ]
    },
    {
     "data": {
      "image/png": "[encoded data removed]",
      "text/plain": [
       "<Figure size 600x400 with 11 Axes>"
      ]
     },
     "metadata": {
      "needs_background": "light"
     },
     "output_type": "display_data"
    },
    {
     "name": "stdout",
     "output_type": "stream",
     "text": [
      "24 failures for digit 6\n",
      "Classification: [5 0 0 0 5 5 4 4 1 5 1 0 0 4 5 5 4 8 4 2 4 4 2 8]\n",
      "Labels: [6 6 6 6 6 6 6 6 6 6 6 6 6 6 6 6 6 6 6 6 6 6 6 6]\n"
     ]
    },
    {
     "data": {
      "image/png": "[encoded data removed]",
      "text/plain": [
       "<Figure size 600x400 with 24 Axes>"
      ]
     },
     "metadata": {
      "needs_background": "light"
     },
     "output_type": "display_data"
    },
    {
     "name": "stdout",
     "output_type": "stream",
     "text": [
      "18 failures for digit 7\n",
      "Classification: [9 2 2 2 9 2 2 9 9 2 2 8 2 1 2 2 2 2]\n",
      "Labels: [7 7 7 7 7 7 7 7 7 7 7 7 7 7 7 7 7 7]\n"
     ]
    },
    {
     "data": {
      "image/png": "[encoded data removed]",
      "text/plain": [
       "<Figure size 600x400 with 18 Axes>"
      ]
     },
     "metadata": {
      "needs_background": "light"
     },
     "output_type": "display_data"
    },
    {
     "name": "stdout",
     "output_type": "stream",
     "text": [
      "10 failures for digit 8\n",
      "Classification: [2 9 7 3 0 0 7 9 9 2]\n",
      "Labels: [8 8 8 8 8 8 8 8 8 8]\n"
     ]
    },
    {
     "data": {
      "image/png": "[encoded data removed]",
      "text/plain": [
       "<Figure size 600x400 with 10 Axes>"
      ]
     },
     "metadata": {
      "needs_background": "light"
     },
     "output_type": "display_data"
    },
    {
     "name": "stdout",
     "output_type": "stream",
     "text": [
      "22 failures for digit 9\n",
      "Classification: [4 4 5 4 3 4 8 8 0 0 8 4 5 7 4 3 8 8 0 7 4 7]\n",
      "Labels: [9 9 9 9 9 9 9 9 9 9 9 9 9 9 9 9 9 9 9 9 9 9]\n"
     ]
    },
    {
     "data": {
      "image/png": "[encoded data removed]",
      "text/plain": [
       "<Figure size 600x400 with 22 Axes>"
      ]
     },
     "metadata": {
      "needs_background": "light"
     },
     "output_type": "display_data"
    }
   ],
   "source": [
    "target_failures = target_all[failure_indices]\n",
    "\n",
    "failure_idx_by_digit = list(map(lambda digit: np.where(target_failures.eq(digit))[0], range(0,10)))\n",
    "\n",
    "for digit in range(0,10):\n",
    "    fail_idx = failure_indices[failure_idx_by_digit[digit]]\n",
    "    print('{} failures for digit {}'.format(fail_idx.size, digit))\n",
    "    output = output_all[fail_idx].argmax(dim=1, keepdim=True).numpy().T[0]\n",
    "    print('Classification: {}'.format(output))\n",
    "    plot_data(test_loader.dataset, fail_idx)"
   ]
  },
  {
   "cell_type": "code",
   "execution_count": 110,
   "metadata": {},
   "outputs": [],
   "source": [
    "def plot_kernels(conv_layer):\n",
    "    out_dim = conv_layer.size()[0]\n",
    "    in_dim = conv_layer.size()[1]\n",
    "    kw = conv_layer.size()[2]\n",
    "    kh = conv_layer.size()[3]\n",
    "    #np.linalg.svd()\n",
    "\n",
    "    for row in range(0,out_dim):\n",
    "        fig, ax = plt.subplots(1, in_dim, dpi=200)\n",
    "        for col in range(0,in_dim):\n",
    "            if in_dim>1:\n",
    "                col_ax = ax[col]\n",
    "            else:\n",
    "                col_ax = ax\n",
    "            col_ax.imshow(conv_layer[row][col].numpy(), cmap='binary')\n",
    "            col_ax.axis('off')\n",
    "        plt.show()"
   ]
  },
  {
   "cell_type": "code",
   "execution_count": 111,
   "metadata": {},
   "outputs": [
    {
     "data": {
      "image/png": "[encoded data removed]",
      "text/plain": [
       "<Figure size 1200x800 with 1 Axes>"
      ]
     },
     "metadata": {
      "needs_background": "light"
     },
     "output_type": "display_data"
    },
    {
     "data": {
      "image/png": "[encoded data removed]",
      "text/plain": [
       "<Figure size 1200x800 with 1 Axes>"
      ]
     },
     "metadata": {
      "needs_background": "light"
     },
     "output_type": "display_data"
    },
    {
     "data": {
      "image/png": "[encoded data removed]",
      "text/plain": [
       "<Figure size 1200x800 with 1 Axes>"
      ]
     },
     "metadata": {
      "needs_background": "light"
     },
     "output_type": "display_data"
    },
    {
     "data": {
      "image/png": "[encoded data removed]",
      "text/plain": [
       "<Figure size 1200x800 with 1 Axes>"
      ]
     },
     "metadata": {
      "needs_background": "light"
     },
     "output_type": "display_data"
    },
    {
     "data": {
      "image/png": "[encoded data removed]",
      "text/plain": [
       "<Figure size 1200x800 with 1 Axes>"
      ]
     },
     "metadata": {
      "needs_background": "light"
     },
     "output_type": "display_data"
    },
    {
     "data": {
      "image/png": "[encoded data removed]",
      "text/plain": [
       "<Figure size 1200x800 with 1 Axes>"
      ]
     },
     "metadata": {
      "needs_background": "light"
     },
     "output_type": "display_data"
    },
    {
     "data": {
      "image/png": "[encoded data removed]",
      "text/plain": [
       "<Figure size 1200x800 with 1 Axes>"
      ]
     },
     "metadata": {
      "needs_background": "light"
     },
     "output_type": "display_data"
    },
    {
     "data": {
      "image/png": "[encoded data removed]",
      "text/plain": [
       "<Figure size 1200x800 with 1 Axes>"
      ]
     },
     "metadata": {
      "needs_background": "light"
     },
     "output_type": "display_data"
    }
   ],
   "source": [
    "plot_kernels(model.state_dict()['conv1.weight'])"
   ]
  },
  {
   "cell_type": "code",
   "execution_count": 112,
   "metadata": {},
   "outputs": [
    {
     "data": {
      "image/png": "[encoded data removed]",
      "text/plain": [
       "<Figure size 1200x800 with 8 Axes>"
      ]
     },
     "metadata": {
      "needs_background": "light"
     },
     "output_type": "display_data"
    },
    {
     "data": {
      "image/png": "[encoded data removed]",
      "text/plain": [
       "<Figure size 1200x800 with 8 Axes>"
      ]
     },
     "metadata": {
      "needs_background": "light"
     },
     "output_type": "display_data"
    },
    {
     "data": {
      "image/png": "[encoded data removed]",
      "text/plain": [
       "<Figure size 1200x800 with 8 Axes>"
      ]
     },
     "metadata": {
      "needs_background": "light"
     },
     "output_type": "display_data"
    },
    {
     "data": {
      "image/png": "[encoded data removed]",
      "text/plain": [
       "<Figure size 1200x800 with 8 Axes>"
      ]
     },
     "metadata": {
      "needs_background": "light"
     },
     "output_type": "display_data"
    },
    {
     "data": {
      "image/png": "[encoded data removed]",
      "text/plain": [
       "<Figure size 1200x800 with 8 Axes>"
      ]
     },
     "metadata": {
      "needs_background": "light"
     },
     "output_type": "display_data"
    },
    {
     "data": {
      "image/png": "[encoded data removed]",
      "text/plain": [
       "<Figure size 1200x800 with 8 Axes>"
      ]
     },
     "metadata": {
      "needs_background": "light"
     },
     "output_type": "display_data"
    },
    {
     "data": {
      "image/png": "[encoded data removed]",
      "text/plain": [
       "<Figure size 1200x800 with 8 Axes>"
      ]
     },
     "metadata": {
      "needs_background": "light"
     },
     "output_type": "display_data"
    },
    {
     "data": {
      "image/png": "[encoded data removed]",
      "text/plain": [
       "<Figure size 1200x800 with 8 Axes>"
      ]
     },
     "metadata": {
      "needs_background": "light"
     },
     "output_type": "display_data"
    },
    {
     "data": {
      "image/png": "[encoded data removed]",
      "text/plain": [
       "<Figure size 1200x800 with 8 Axes>"
      ]
     },
     "metadata": {
      "needs_background": "light"
     },
     "output_type": "display_data"
    },
    {
     "data": {
      "image/png": "[encoded data removed]",
      "text/plain": [
       "<Figure size 1200x800 with 8 Axes>"
      ]
     },
     "metadata": {
      "needs_background": "light"
     },
     "output_type": "display_data"
    },
    {
     "data": {
      "image/png": "[encoded data removed]",
      "text/plain": [
       "<Figure size 1200x800 with 8 Axes>"
      ]
     },
     "metadata": {
      "needs_background": "light"
     },
     "output_type": "display_data"
    },
    {
     "data": {
      "image/png": "[encoded data removed]",
      "text/plain": [
       "<Figure size 1200x800 with 8 Axes>"
      ]
     },
     "metadata": {
      "needs_background": "light"
     },
     "output_type": "display_data"
    },
    {
     "data": {
      "image/png": "[encoded data removed]",
      "text/plain": [
       "<Figure size 1200x800 with 8 Axes>"
      ]
     },
     "metadata": {
      "needs_background": "light"
     },
     "output_type": "display_data"
    },
    {
     "data": {
      "image/png": "[encoded data removed]",
      "text/plain": [
       "<Figure size 1200x800 with 8 Axes>"
      ]
     },
     "metadata": {
      "needs_background": "light"
     },
     "output_type": "display_data"
    },
    {
     "data": {
      "image/png": "[encoded data removed]",
      "text/plain": [
       "<Figure size 1200x800 with 8 Axes>"
      ]
     },
     "metadata": {
      "needs_background": "light"
     },
     "output_type": "display_data"
    },
    {
     "data": {
      "image/png": "[encoded data removed]",
      "text/plain": [
       "<Figure size 1200x800 with 8 Axes>"
      ]
     },
     "metadata": {
      "needs_background": "light"
     },
     "output_type": "display_data"
    },
    {
     "data": {
      "image/png": "[encoded data removed]",
      "text/plain": [
       "<Figure size 1200x800 with 8 Axes>"
      ]
     },
     "metadata": {
      "needs_background": "light"
     },
     "output_type": "display_data"
    },
    {
     "data": {
      "image/png": "[encoded data removed]",
      "text/plain": [
       "<Figure size 1200x800 with 8 Axes>"
      ]
     },
     "metadata": {
      "needs_background": "light"
     },
     "output_type": "display_data"
    },
    {
     "data": {
      "image/png": "[encoded data removed]",
      "text/plain": [
       "<Figure size 1200x800 with 8 Axes>"
      ]
     },
     "metadata": {
      "needs_background": "light"
     },
     "output_type": "display_data"
    },
    {
     "data": {
      "image/png": "[encoded data removed]",
      "text/plain": [
       "<Figure size 1200x800 with 8 Axes>"
      ]
     },
     "metadata": {
      "needs_background": "light"
     },
     "output_type": "display_data"
    },
    {
     "data": {
      "image/png": "[encoded data removed]",
      "text/plain": [
       "<Figure size 1200x800 with 8 Axes>"
      ]
     },
     "metadata": {
      "needs_background": "light"
     },
     "output_type": "display_data"
    },
    {
     "data": {
      "image/png": "[encoded data removed]",
      "text/plain": [
       "<Figure size 1200x800 with 8 Axes>"
      ]
     },
     "metadata": {
      "needs_background": "light"
     },
     "output_type": "display_data"
    },
    {
     "data": {
      "image/png": "[encoded data removed]",
      "text/plain": [
       "<Figure size 1200x800 with 8 Axes>"
      ]
     },
     "metadata": {
      "needs_background": "light"
     },
     "output_type": "display_data"
    },
    {
     "data": {
      "image/png": "[encoded data removed]",
      "text/plain": [
       "<Figure size 1200x800 with 8 Axes>"
      ]
     },
     "metadata": {
      "needs_background": "light"
     },
     "output_type": "display_data"
    },
    {
     "data": {
      "image/png": "[encoded data removed]",
      "text/plain": [
       "<Figure size 1200x800 with 8 Axes>"
      ]
     },
     "metadata": {
      "needs_background": "light"
     },
     "output_type": "display_data"
    },
    {
     "data": {
      "image/png": "[encoded data removed]",
      "text/plain": [
       "<Figure size 1200x800 with 8 Axes>"
      ]
     },
     "metadata": {
      "needs_background": "light"
     },
     "output_type": "display_data"
    },
    {
     "data": {
      "image/png": "[encoded data removed]",
      "text/plain": [
       "<Figure size 1200x800 with 8 Axes>"
      ]
     },
     "metadata": {
      "needs_background": "light"
     },
     "output_type": "display_data"
    },
    {
     "data": {
      "image/png": "[encoded data removed]",
      "text/plain": [
       "<Figure size 1200x800 with 8 Axes>"
      ]
     },
     "metadata": {
      "needs_background": "light"
     },
     "output_type": "display_data"
    },
    {
     "data": {
      "image/png": "[encoded data removed]",
      "text/plain": [
       "<Figure size 1200x800 with 8 Axes>"
      ]
     },
     "metadata": {
      "needs_background": "light"
     },
     "output_type": "display_data"
    },
    {
     "data": {
      "image/png": "[encoded data removed]",
      "text/plain": [
       "<Figure size 1200x800 with 8 Axes>"
      ]
     },
     "metadata": {
      "needs_background": "light"
     },
     "output_type": "display_data"
    },
    {
     "data": {
      "image/png": "[encoded data removed]",
      "text/plain": [
       "<Figure size 1200x800 with 8 Axes>"
      ]
     },
     "metadata": {
      "needs_background": "light"
     },
     "output_type": "display_data"
    },
    {
     "data": {
      "image/png": "[encoded data removed]",
      "text/plain": [
       "<Figure size 1200x800 with 8 Axes>"
      ]
     },
     "metadata": {
      "needs_background": "light"
     },
     "output_type": "display_data"
    },
    {
     "data": {
      "image/png": "[encoded data removed]",
      "text/plain": [
       "<Figure size 1200x800 with 8 Axes>"
      ]
     },
     "metadata": {
      "needs_background": "light"
     },
     "output_type": "display_data"
    },
    {
     "data": {
      "image/png": "[encoded data removed]",
      "text/plain": [
       "<Figure size 1200x800 with 8 Axes>"
      ]
     },
     "metadata": {
      "needs_background": "light"
     },
     "output_type": "display_data"
    },
    {
     "data": {
      "image/png": "[encoded data removed]",
      "text/plain": [
       "<Figure size 1200x800 with 8 Axes>"
      ]
     },
     "metadata": {
      "needs_background": "light"
     },
     "output_type": "display_data"
    },
    {
     "data": {
      "image/png": "[encoded data removed]",
      "text/plain": [
       "<Figure size 1200x800 with 8 Axes>"
      ]
     },
     "metadata": {
      "needs_background": "light"
     },
     "output_type": "display_data"
    },
    {
     "data": {
      "image/png": "[encoded data removed]",
      "text/plain": [
       "<Figure size 1200x800 with 8 Axes>"
      ]
     },
     "metadata": {
      "needs_background": "light"
     },
     "output_type": "display_data"
    },
    {
     "data": {
      "image/png": "[encoded data removed]",
      "text/plain": [
       "<Figure size 1200x800 with 8 Axes>"
      ]
     },
     "metadata": {
      "needs_background": "light"
     },
     "output_type": "display_data"
    },
    {
     "data": {
      "image/png": "[encoded data removed]",
      "text/plain": [
       "<Figure size 1200x800 with 8 Axes>"
      ]
     },
     "metadata": {
      "needs_background": "light"
     },
     "output_type": "display_data"
    },
    {
     "data": {
      "image/png": "[encoded data removed]",
      "text/plain": [
       "<Figure size 1200x800 with 8 Axes>"
      ]
     },
     "metadata": {
      "needs_background": "light"
     },
     "output_type": "display_data"
    },
    {
     "data": {
      "image/png": "[encoded data removed]",
      "text/plain": [
       "<Figure size 1200x800 with 8 Axes>"
      ]
     },
     "metadata": {
      "needs_background": "light"
     },
     "output_type": "display_data"
    },
    {
     "data": {
      "image/png": "[encoded data removed]",
      "text/plain": [
       "<Figure size 1200x800 with 8 Axes>"
      ]
     },
     "metadata": {
      "needs_background": "light"
     },
     "output_type": "display_data"
    },
    {
     "data": {
      "image/png": "[encoded data removed]",
      "text/plain": [
       "<Figure size 1200x800 with 8 Axes>"
      ]
     },
     "metadata": {
      "needs_background": "light"
     },
     "output_type": "display_data"
    },
    {
     "data": {
      "image/png": "[encoded data removed]",
      "text/plain": [
       "<Figure size 1200x800 with 8 Axes>"
      ]
     },
     "metadata": {
      "needs_background": "light"
     },
     "output_type": "display_data"
    },
    {
     "data": {
      "image/png": "[encoded data removed]",
      "text/plain": [
       "<Figure size 1200x800 with 8 Axes>"
      ]
     },
     "metadata": {
      "needs_background": "light"
     },
     "output_type": "display_data"
    },
    {
     "data": {
      "image/png": "[encoded data removed]",
      "text/plain": [
       "<Figure size 1200x800 with 8 Axes>"
      ]
     },
     "metadata": {
      "needs_background": "light"
     },
     "output_type": "display_data"
    },
    {
     "data": {
      "image/png": "[encoded data removed]",
      "text/plain": [
       "<Figure size 1200x800 with 8 Axes>"
      ]
     },
     "metadata": {
      "needs_background": "light"
     },
     "output_type": "display_data"
    },
    {
     "data": {
      "image/png": "[encoded data removed]",
      "text/plain": [
       "<Figure size 1200x800 with 8 Axes>"
      ]
     },
     "metadata": {
      "needs_background": "light"
     },
     "output_type": "display_data"
    },
    {
     "data": {
      "image/png": "[encoded data removed]",
      "text/plain": [
       "<Figure size 1200x800 with 8 Axes>"
      ]
     },
     "metadata": {
      "needs_background": "light"
     },
     "output_type": "display_data"
    },
    {
     "data": {
      "image/png": "[encoded data removed]",
      "text/plain": [
       "<Figure size 1200x800 with 8 Axes>"
      ]
     },
     "metadata": {
      "needs_background": "light"
     },
     "output_type": "display_data"
    },
    {
     "data": {
      "image/png": "[encoded data removed]",
      "text/plain": [
       "<Figure size 1200x800 with 8 Axes>"
      ]
     },
     "metadata": {
      "needs_background": "light"
     },
     "output_type": "display_data"
    },
    {
     "data": {
      "image/png": "[encoded data removed]",
      "text/plain": [
       "<Figure size 1200x800 with 8 Axes>"
      ]
     },
     "metadata": {
      "needs_background": "light"
     },
     "output_type": "display_data"
    },
    {
     "data": {
      "image/png": "[encoded data removed]",
      "text/plain": [
       "<Figure size 1200x800 with 8 Axes>"
      ]
     },
     "metadata": {
      "needs_background": "light"
     },
     "output_type": "display_data"
    },
    {
     "data": {
      "image/png": "[encoded data removed]",
      "text/plain": [
       "<Figure size 1200x800 with 8 Axes>"
      ]
     },
     "metadata": {
      "needs_background": "light"
     },
     "output_type": "display_data"
    },
    {
     "data": {
      "image/png": "[encoded data removed]",
      "text/plain": [
       "<Figure size 1200x800 with 8 Axes>"
      ]
     },
     "metadata": {
      "needs_background": "light"
     },
     "output_type": "display_data"
    },
    {
     "data": {
      "image/png": "[encoded data removed]",
      "text/plain": [
       "<Figure size 1200x800 with 8 Axes>"
      ]
     },
     "metadata": {
      "needs_background": "light"
     },
     "output_type": "display_data"
    },
    {
     "data": {
      "image/png": "[encoded data removed]",
      "text/plain": [
       "<Figure size 1200x800 with 8 Axes>"
      ]
     },
     "metadata": {
      "needs_background": "light"
     },
     "output_type": "display_data"
    },
    {
     "data": {
      "image/png": "[encoded data removed]",
      "text/plain": [
       "<Figure size 1200x800 with 8 Axes>"
      ]
     },
     "metadata": {
      "needs_background": "light"
     },
     "output_type": "display_data"
    },
    {
     "data": {
      "image/png": "[encoded data removed]",
      "text/plain": [
       "<Figure size 1200x800 with 8 Axes>"
      ]
     },
     "metadata": {
      "needs_background": "light"
     },
     "output_type": "display_data"
    },
    {
     "data": {
      "image/png": "[encoded data removed]",
      "text/plain": [
       "<Figure size 1200x800 with 8 Axes>"
      ]
     },
     "metadata": {
      "needs_background": "light"
     },
     "output_type": "display_data"
    },
    {
     "data": {
      "image/png": "[encoded data removed]",
      "text/plain": [
       "<Figure size 1200x800 with 8 Axes>"
      ]
     },
     "metadata": {
      "needs_background": "light"
     },
     "output_type": "display_data"
    },
    {
     "data": {
      "image/png": "[encoded data removed]",
      "text/plain": [
       "<Figure size 1200x800 with 8 Axes>"
      ]
     },
     "metadata": {
      "needs_background": "light"
     },
     "output_type": "display_data"
    },
    {
     "data": {
      "image/png": "[encoded data removed]",
      "text/plain": [
       "<Figure size 1200x800 with 8 Axes>"
      ]
     },
     "metadata": {
      "needs_background": "light"
     },
     "output_type": "display_data"
    },
    {
     "data": {
      "image/png": "[encoded data removed]",
      "text/plain": [
       "<Figure size 1200x800 with 8 Axes>"
      ]
     },
     "metadata": {
      "needs_background": "light"
     },
     "output_type": "display_data"
    }
   ],
   "source": [
    "plot_kernels(model.state_dict()['conv2.weight'])"
   ]
  }
 ],
 "metadata": {
  "kernelspec": {
   "display_name": "Python 3",
   "language": "python",
   "name": "python3"
  },
  "language_info": {
   "codemirror_mode": {
    "name": "ipython",
    "version": 3
   },
   "file_extension": ".py",
   "mimetype": "text/x-python",
   "name": "python",
   "nbconvert_exporter": "python",
   "pygments_lexer": "ipython3",
   "version": "3.6.8"
  }
 },
 "nbformat": 4,
 "nbformat_minor": 2
}
